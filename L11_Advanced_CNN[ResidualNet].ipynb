{
  "nbformat": 4,
  "nbformat_minor": 0,
  "metadata": {
    "colab": {
      "provenance": [],
      "authorship_tag": "ABX9TyOIPDsEVKOcplkTSJKKC0o+"
    },
    "kernelspec": {
      "name": "python3",
      "display_name": "Python 3"
    },
    "language_info": {
      "name": "python"
    }
  },
  "cells": [
    {
      "cell_type": "markdown",
      "source": [
        "# L11 Advanced CNN[ResidualNet]"
      ],
      "metadata": {
        "id": "iOWaLeR1_-ZT"
      }
    },
    {
      "cell_type": "code",
      "source": [
        "import torch\n",
        "import numpy as np\n",
        "\n",
        "BATCH_SIZE = 64"
      ],
      "metadata": {
        "id": "WxzRxT6V_7k7"
      },
      "execution_count": 19,
      "outputs": []
    },
    {
      "cell_type": "code",
      "source": [
        "# data\n",
        "from torchvision import transforms\n",
        "from torchvision import datasets\n",
        "from torch.utils.data import DataLoader\n",
        "\n",
        "transform = transforms.Compose([ transforms.ToTensor(), transforms.Normalize((0.1307, ), (0.3081, )) ])\n",
        "train_dataset = datasets.MNIST(root='dataset/mnist', train=True, transform=transform, download=True) \n",
        "train_loader = DataLoader(dataset=train_dataset, batch_size=BATCH_SIZE, shuffle=True, num_workers=3)\n",
        "test_dataset = datasets.MNIST(root='dataset/mnist', train=False, transform=transform, download=True) \n",
        "test_loader = DataLoader(dataset=test_dataset, batch_size=BATCH_SIZE, shuffle=False, num_workers=3)\n",
        "print(train_dataset)"
      ],
      "metadata": {
        "colab": {
          "base_uri": "https://localhost:8080/"
        },
        "id": "C1TxEnAzAJ0C",
        "outputId": "425479d5-c430-4fe4-af08-d159101f8b03"
      },
      "execution_count": 20,
      "outputs": [
        {
          "output_type": "stream",
          "name": "stdout",
          "text": [
            "Dataset MNIST\n",
            "    Number of datapoints: 60000\n",
            "    Root location: dataset/mnist\n",
            "    Split: Train\n",
            "    StandardTransform\n",
            "Transform: Compose(\n",
            "               ToTensor()\n",
            "               Normalize(mean=(0.1307,), std=(0.3081,))\n",
            "           )\n"
          ]
        }
      ]
    },
    {
      "cell_type": "code",
      "source": [
        "from torch import nn\n",
        "class ResidualBlock(nn.Module):\n",
        "  def __init__(self, channels):\n",
        "    super(ResidualBlock, self).__init__()\n",
        "    self.channels = channels\n",
        "    self.conv1 = nn.Conv2d(channels, channels, kernel_size=3, padding=1)\n",
        "    self.conv2 = nn.Conv2d(channels, channels, kernel_size=3, padding=1)\n",
        "\n",
        "  def forward(self, x):\n",
        "    y = nn.functional.relu(self.conv1(x))\n",
        "    y = self.conv2(y)\n",
        "    return nn.functional.relu(x+y)"
      ],
      "metadata": {
        "id": "_MxvqUD8AVty"
      },
      "execution_count": 21,
      "outputs": []
    },
    {
      "cell_type": "code",
      "source": [
        "# model\n",
        "class Net(torch.nn.Module):\n",
        "  def __init__(self):\n",
        "    super(Net, self).__init__()\n",
        "    self.conv = torch.nn.ModuleList()\n",
        "    self.rb = torch.nn.ModuleList()\n",
        "    self.fc = torch.nn.ModuleList()\n",
        "    \n",
        "    self.conv.append(torch.nn.Conv2d(1, 16, kernel_size=5))\n",
        "    self.conv.append(torch.nn.Conv2d(16, 32, kernel_size=5))\n",
        "    self.rb.append(ResidualBlock(16))\n",
        "    self.rb.append(ResidualBlock(32))\n",
        "    self.fc.append(torch.nn.Linear(512, 320)) # in_dim, out_dim;\n",
        "    self.fc.append(torch.nn.Linear(320, 10))\n",
        "  \n",
        "  def forward(self, x):\n",
        "    in_size = x.size(0) # get N from (N,1,28,28)\n",
        "    fc_size = len(self.fc)\n",
        "    \n",
        "    for i, layer in enumerate(self.conv):\n",
        "      x = layer(x)\n",
        "      x = nn.functional.avg_pool2d(x, 2)\n",
        "      x = nn.functional.relu(x) # first relu then pooling is also ok\n",
        "      x = self.rb[i](x)\n",
        "    x = x.view(in_size, -1) # flatten\n",
        "    for layer_index in range(fc_size-1): # last layer donot need RELU activate\n",
        "      x = torch.relu(self.fc[layer_index](x))\n",
        "    return self.fc[fc_size-1](x)\n",
        "    \n",
        "net = Net()\n",
        "device = torch.device(\"cuda:0\" if torch.cuda.is_available() else \"cpu\")\n",
        "net.to(device) # move to GPU\n",
        "print(device)"
      ],
      "metadata": {
        "colab": {
          "base_uri": "https://localhost:8080/"
        },
        "id": "MGf1QlM3ALwK",
        "outputId": "96c9fe6b-9d09-44b2-d4a0-c6a9ef73c962"
      },
      "execution_count": 22,
      "outputs": [
        {
          "output_type": "stream",
          "name": "stdout",
          "text": [
            "cpu\n"
          ]
        }
      ]
    },
    {
      "cell_type": "code",
      "source": [
        "# criterion\n",
        "criterion = torch.nn.CrossEntropyLoss()\n",
        "optimizer = torch.optim.SGD(net.parameters(), lr=0.01, momentum=0.5)"
      ],
      "metadata": {
        "id": "1frap-nQEJ0B"
      },
      "execution_count": 23,
      "outputs": []
    },
    {
      "cell_type": "code",
      "source": [
        "# train\n",
        "def train(epoch):\n",
        "  running_loss = 0\n",
        "  for batch_i, (x, y) in enumerate(train_loader):\n",
        "    x, y = x.to(device), y.to(device) # move to GPU\n",
        "    y_hat = net(x)\n",
        "    loss = criterion(y_hat, y.long()) # torch.Tensor() is float, torch.LongTensor() is num; in this case, .long() removed is ok\n",
        "    loss.backward()\n",
        "    optimizer.step()\n",
        "    optimizer.zero_grad()\n",
        "    \n",
        "    running_loss += loss.item()\n",
        "      \n",
        "  if(running_loss <= 1e-5 or epoch >= 10):\n",
        "    return True, epoch, running_loss / BATCH_SIZE\n",
        "  else:\n",
        "    epoch += 1\n",
        "    return False, epoch, running_loss / BATCH_SIZE"
      ],
      "metadata": {
        "id": "cKSihbhKE0l7"
      },
      "execution_count": 24,
      "outputs": []
    },
    {
      "cell_type": "code",
      "source": [
        "# test\n",
        "def test():\n",
        "  correct = 0\n",
        "  total = 0\n",
        "  with torch.no_grad():\n",
        "    for (x, y) in test_loader:\n",
        "      x, y = x.to(device), y.to(device) # move to GPU\n",
        "      y_hat = net(x)\n",
        "      value, pred_index = torch.max(y_hat.data, dim=1)\n",
        "      total += y.size(0)\n",
        "      correct += (pred_index == y).sum().item()\n",
        "  return correct / total"
      ],
      "metadata": {
        "id": "gXk9CslsE15B"
      },
      "execution_count": 25,
      "outputs": []
    },
    {
      "cell_type": "code",
      "source": [
        "# epoch\n",
        "epoch = 0\n",
        "loss = []\n",
        "accurate_rate = []\n",
        "\n",
        "while True:\n",
        "  train_over, epoch, epoch_loss = train(epoch) \n",
        "  loss.append(epoch_loss)\n",
        "  acc = test()\n",
        "  accurate_rate.append(acc)\n",
        "  \n",
        "  if(train_over):\n",
        "    break"
      ],
      "metadata": {
        "id": "AR_YUpf0E3Ew"
      },
      "execution_count": 26,
      "outputs": []
    },
    {
      "cell_type": "code",
      "source": [
        "# plot\n",
        "import matplotlib.pyplot as plt\n",
        "\n",
        "plt.subplot(121)\n",
        "plt.title(\"loss\")\n",
        "plt.plot(loss)\n",
        "plt.xlabel(\"epoch\")\n",
        "plt.ylabel(\"loss\")\n",
        "plt.grid(True)\n",
        "\n",
        "plt.subplot(122)\n",
        "plt.title(\"test performance\")\n",
        "plt.plot(accurate_rate, \"ro\")\n",
        "plt.plot(accurate_rate)\n",
        "plt.xlabel(\"epoch\")\n",
        "plt.ylabel(\"accurate rate\")\n",
        "plt.grid(True)\n",
        "px, py = 10, accurate_rate[-1]\n",
        "# plt.text(px-0.2, py-0.002, \"%0.3f\"%(accurate_rate[-1]), rotation=-30, color='gray')\n",
        "plt.annotate(\"%0.3f\"%(accurate_rate[-1]), xy=(px, py), xytext=(px,py-0.003),\n",
        "             color=\"green\", weight=\"heavy\", fontsize=10,\n",
        "             arrowprops={\"facecolor\": \"lightgreen\"})\n",
        "\n",
        "plt.tight_layout()\n",
        "# plt.savefig(\"image/L10_performance.png\")\n",
        "plt.show()"
      ],
      "metadata": {
        "colab": {
          "base_uri": "https://localhost:8080/",
          "height": 297
        },
        "id": "GplXFTYEFWBp",
        "outputId": "ba16e122-1690-41f4-cefa-b00e4b073a64"
      },
      "execution_count": 27,
      "outputs": [
        {
          "output_type": "display_data",
          "data": {
            "text/plain": [
              "<Figure size 432x288 with 2 Axes>"
            ],
            "image/png": "[encoded data removed]"
          },
          "metadata": {
            "needs_background": "light"
          }
        }
      ]
    },
    {
      "cell_type": "code",
      "source": [],
      "metadata": {
        "id": "85BSd6xiFagY"
      },
      "execution_count": null,
      "outputs": []
    }
  ]
}