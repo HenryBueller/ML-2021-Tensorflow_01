{
  "nbformat": 4,
  "nbformat_minor": 0,
  "metadata": {
    "colab": {
      "provenance": [],
      "toc_visible": true,
      "authorship_tag": "ABX9TyOOXikkaLSF4NwMIoJ3oeWn",
      "include_colab_link": true
    },
    "kernelspec": {
      "name": "python3",
      "display_name": "Python 3"
    },
    "language_info": {
      "name": "python"
    },
    "accelerator": "GPU",
    "gpuClass": "standard"
  },
  "cells": [
    {
      "cell_type": "markdown",
      "metadata": {
        "id": "view-in-github",
        "colab_type": "text"
      },
      "source": [
        "<a href=\"https://colab.research.google.com/github/HenryBueller/deep-learning-2021/blob/main/Untitled0.ipynb\" target=\"_parent\"><img src=\"https://colab.research.google.com/assets/colab-badge.svg\" alt=\"Open In Colab\"/></a>"
      ]
    },
    {
      "cell_type": "code",
      "execution_count": 13,
      "metadata": {
        "id": "tTvw33EvoLx7"
      },
      "outputs": [],
      "source": [
        "import torch\n",
        "import numpy as np\n",
        "\n",
        "BATCH_SIZE = 64"
      ]
    },
    {
      "cell_type": "code",
      "source": [
        "# data\n",
        "from torchvision import transforms\n",
        "from torchvision import datasets\n",
        "from torch.utils.data import DataLoader\n",
        "\n",
        "transform = transforms.Compose([ transforms.ToTensor(), transforms.Normalize((0.1307, ), (0.3081, )) ])\n",
        "train_dataset = datasets.MNIST(root='dataset/mnist', train=True, transform=transform, download=True) \n",
        "train_loader = DataLoader(dataset=train_dataset, batch_size=BATCH_SIZE, shuffle=True, num_workers=3)\n",
        "test_dataset = datasets.MNIST(root='dataset/mnist', train=False, transform=transform, download=True) \n",
        "test_loader = DataLoader(dataset=test_dataset, batch_size=BATCH_SIZE, shuffle=False, num_workers=3)\n",
        "print(train_dataset)"
      ],
      "metadata": {
        "colab": {
          "base_uri": "https://localhost:8080/"
        },
        "id": "Xi1u3Edmo31x",
        "outputId": "e6c8fef1-26b8-45db-d424-bbddfe6b2bb2"
      },
      "execution_count": 15,
      "outputs": [
        {
          "output_type": "stream",
          "name": "stdout",
          "text": [
            "Dataset MNIST\n",
            "    Number of datapoints: 60000\n",
            "    Root location: dataset/mnist\n",
            "    Split: Train\n",
            "    StandardTransform\n",
            "Transform: Compose(\n",
            "               ToTensor()\n",
            "               Normalize(mean=(0.1307,), std=(0.3081,))\n",
            "           )\n"
          ]
        },
        {
          "output_type": "stream",
          "name": "stderr",
          "text": [
            "/usr/local/lib/python3.9/dist-packages/torch/utils/data/dataloader.py:554: UserWarning: This DataLoader will create 3 worker processes in total. Our suggested max number of worker in current system is 2, which is smaller than what this DataLoader is going to create. Please be aware that excessive worker creation might get DataLoader running slow or even freeze, lower the worker number to avoid potential slowness/freeze if necessary.\n",
            "  warnings.warn(_create_warning_msg(\n"
          ]
        }
      ]
    },
    {
      "cell_type": "code",
      "source": [
        "# model\n",
        "class Net(torch.nn.Module):\n",
        "    def __init__(self):\n",
        "        super(Net, self).__init__()\n",
        "        self.conv = torch.nn.ModuleList()\n",
        "        self.fc = torch.nn.ModuleList()\n",
        "        \n",
        "        self.conv.append(torch.nn.Conv2d(1, 10, kernel_size=5, stride=1, bias=False)) # in_channel, out_channel; padding=1\n",
        "        self.conv.append(torch.nn.Conv2d(10, 20, kernel_size=5, stride=1, bias=False))\n",
        "        self.pooling = torch.nn.MaxPool2d(2) # filter 2x2, therefore stride=2\n",
        "        self.fc.append(torch.nn.Linear(320, 160)) # in_dim, out_dim;\n",
        "        self.fc.append(torch.nn.Linear(160, 10))\n",
        "    \n",
        "    def forward(self, x):\n",
        "        batch_size = x.size(0) # get N from (N,1,28,28)\n",
        "        fc_size = len(self.fc)\n",
        "        \n",
        "        for layer in self.conv:\n",
        "            x = torch.relu(self.pooling(layer(x))) # first relu then pooling is also ok\n",
        "        x = x.view(batch_size, -1) # flatten\n",
        "        for layer_index in range(fc_size-1): # last layer donot need RELU activate\n",
        "            x = torch.relu(self.fc[layer_index](x))\n",
        "        return self.fc[fc_size-1](x)\n",
        "    \n",
        "net = Net()\n",
        "device = torch.device(\"cuda:0\" if torch.cuda.is_available() else \"cpu\")\n",
        "net.to(device) # move to GPU"
      ],
      "metadata": {
        "colab": {
          "base_uri": "https://localhost:8080/"
        },
        "id": "YZQ1rLHDo4yw",
        "outputId": "2b14ae94-940f-48d9-b20d-8dc7290dbed0"
      },
      "execution_count": 16,
      "outputs": [
        {
          "output_type": "execute_result",
          "data": {
            "text/plain": [
              "Net(\n",
              "  (conv): ModuleList(\n",
              "    (0): Conv2d(1, 10, kernel_size=(5, 5), stride=(1, 1), bias=False)\n",
              "    (1): Conv2d(10, 20, kernel_size=(5, 5), stride=(1, 1), bias=False)\n",
              "  )\n",
              "  (fc): ModuleList(\n",
              "    (0): Linear(in_features=320, out_features=160, bias=True)\n",
              "    (1): Linear(in_features=160, out_features=10, bias=True)\n",
              "  )\n",
              "  (pooling): MaxPool2d(kernel_size=2, stride=2, padding=0, dilation=1, ceil_mode=False)\n",
              ")"
            ]
          },
          "metadata": {},
          "execution_count": 16
        }
      ]
    },
    {
      "cell_type": "code",
      "source": [
        "print(device)"
      ],
      "metadata": {
        "colab": {
          "base_uri": "https://localhost:8080/"
        },
        "id": "BPz9iu8Oo7Yf",
        "outputId": "9388a4c7-c047-49a7-8f51-1cde3e1ac895"
      },
      "execution_count": 17,
      "outputs": [
        {
          "output_type": "stream",
          "name": "stdout",
          "text": [
            "cuda:0\n"
          ]
        }
      ]
    },
    {
      "cell_type": "code",
      "source": [
        "# criterion\n",
        "criterion = torch.nn.CrossEntropyLoss()\n",
        "optimizer = torch.optim.SGD(net.parameters(), lr=0.01, momentum=0.5)"
      ],
      "metadata": {
        "id": "H--0DHo-pAQ_"
      },
      "execution_count": 18,
      "outputs": []
    },
    {
      "cell_type": "code",
      "source": [
        "# train\n",
        "def train(epoch):\n",
        "    running_loss = 0\n",
        "    for batch_i, (x, y) in enumerate(train_loader):\n",
        "        x, y = x.to(device), y.to(device) # move to GPU\n",
        "        y_hat = net(x)\n",
        "        loss = criterion(y_hat, y.long()) # torch.Tensor() is float, torch.LongTensor() is num; in this case, .long() removed is ok\n",
        "        loss.backward()\n",
        "        optimizer.step()\n",
        "        optimizer.zero_grad()\n",
        "        \n",
        "        running_loss += loss.item()\n",
        "        \n",
        "    if(running_loss <= 1e-5 or epoch >= 10):\n",
        "        return True, epoch, running_loss / BATCH_SIZE\n",
        "    else:\n",
        "        epoch += 1\n",
        "        return False, epoch, running_loss / BATCH_SIZE"
      ],
      "metadata": {
        "id": "eWiu3Fh4pDE_"
      },
      "execution_count": 19,
      "outputs": []
    },
    {
      "cell_type": "code",
      "source": [
        "# test\n",
        "def test():\n",
        "    correct = 0\n",
        "    total = 0\n",
        "    with torch.no_grad():\n",
        "        for (x, y) in test_loader:\n",
        "            x, y = x.to(device), y.to(device) # move to GPU\n",
        "            y_hat = net(x)\n",
        "            value, pred_index = torch.max(y_hat.data, dim=1)\n",
        "            total += y.size(0)\n",
        "            correct += (pred_index == y).sum().item()\n",
        "    return correct / total"
      ],
      "metadata": {
        "id": "FDxaN9W_pEtv"
      },
      "execution_count": 20,
      "outputs": []
    },
    {
      "cell_type": "code",
      "source": [
        "%%time\n",
        "# epoch\n",
        "epoch = 0\n",
        "loss = []\n",
        "accurate_rate = []\n",
        "\n",
        "while True:\n",
        "    train_over, epoch, epoch_loss = train(epoch) \n",
        "    loss.append(epoch_loss)\n",
        "    acc = test()\n",
        "    accurate_rate.append(acc)\n",
        "    \n",
        "    if(train_over):\n",
        "        break"
      ],
      "metadata": {
        "id": "k0GVN-jTpGcv",
        "colab": {
          "base_uri": "https://localhost:8080/"
        },
        "outputId": "60fe884c-5de7-4cc1-e010-2e01a7aff582"
      },
      "execution_count": 21,
      "outputs": [
        {
          "output_type": "stream",
          "name": "stdout",
          "text": [
            "CPU times: user 39.2 s, sys: 6.56 s, total: 45.7 s\n",
            "Wall time: 3min 1s\n"
          ]
        }
      ]
    },
    {
      "cell_type": "code",
      "source": [
        "# plot\n",
        "import matplotlib.pyplot as plt\n",
        "\n",
        "plt.subplot(121)\n",
        "plt.title(\"loss\")\n",
        "plt.plot(loss)\n",
        "plt.xlabel(\"epoch\")\n",
        "plt.ylabel(\"loss\")\n",
        "plt.grid(True)\n",
        "\n",
        "plt.subplot(122)\n",
        "plt.title(\"test performance\")\n",
        "plt.plot(accurate_rate, \"ro\")\n",
        "plt.plot(accurate_rate)\n",
        "plt.xlabel(\"epoch\")\n",
        "plt.ylabel(\"accurate rate\")\n",
        "plt.grid(True)\n",
        "px, py = 10, accurate_rate[-1]\n",
        "# plt.text(px-0.2, py-0.002, \"%0.3f\"%(accurate_rate[-1]), rotation=-30, color='gray')\n",
        "plt.annotate(\"%0.3f\"%(accurate_rate[-1]), xy=(px, py), xytext=(px,py-0.003),\n",
        "                           color=\"green\", weight=\"heavy\", fontsize=10,\n",
        "                           arrowprops={\"facecolor\": \"lightgreen\"})\n",
        "\n",
        "plt.tight_layout()\n",
        "# plt.savefig(\"image/L10_performance.png\")\n",
        "plt.show()"
      ],
      "metadata": {
        "colab": {
          "base_uri": "https://localhost:8080/",
          "height": 297
        },
        "id": "UG0NpsmlpK1f",
        "outputId": "df438f76-a85d-4fa9-9c1a-2aac624c34c8"
      },
      "execution_count": 22,
      "outputs": [
        {
          "output_type": "display_data",
          "data": {
            "text/plain": [
              "<Figure size 432x288 with 2 Axes>"
            ],
            "image/png": "[encoded data removed]"
          },
          "metadata": {
            "needs_background": "light"
          }
        }
      ]
    },
    {
      "cell_type": "code",
      "source": [],
      "metadata": {
        "id": "eKSWxmcVpMcX"
      },
      "execution_count": null,
      "outputs": []
    }
  ]
}